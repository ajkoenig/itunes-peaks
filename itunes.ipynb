{
 "cells": [
  {
   "cell_type": "code",
   "execution_count": 1,
   "metadata": {},
   "outputs": [],
   "source": [
    "import requests\n",
    "import urllib3\n",
    "import csv\n",
    "import time\n",
    "from bs4 import BeautifulSoup\n",
    "from datetime import date, timedelta\n",
    "from tempfile import NamedTemporaryFile\n",
    "import shutil\n",
    "t = date.today()\n",
    "today = t.strftime(\"%d%m%y\")\n",
    "urllib3.disable_warnings()\n",
    "url = \"https://kworb.net/itunes/artist/taylorswift.html\"\n",
    "htmlContent = requests.get(url)\n",
    "soup=BeautifulSoup(htmlContent.content, 'html.parser')"
   ]
  },
  {
   "cell_type": "code",
   "execution_count": 17,
   "metadata": {},
   "outputs": [
    {
     "data": {
      "text/plain": [
       "['#2', 'United States']"
      ]
     },
     "execution_count": 17,
     "metadata": {},
     "output_type": "execute_result"
    }
   ],
   "source": [
    "soup.body.find_all('td')[4:][0].find_all(\"div\", class_=\"itu\")[1:][7].a.text.split(' ',1)"
   ]
  },
  {
   "cell_type": "code",
   "execution_count": 18,
   "metadata": {},
   "outputs": [],
   "source": [
    "rapline=[\"Intro : Persona\", \"Jamais vu\", \"Interlude : Shadow\", \"UGH\", \"Respect\", \"Outro : Ego\", \"Dionysus\",\n",
    "         \"Trivia 起 : Just Dance\", \"Trivia 轉 : Seesaw\",\"Trivia 承 : Love\",\"Her\",\"Tear\",\"Intro: Boy Meets Evil\",\n",
    "         \"First Love\", \"Reflection\", \"MAMA\",\"BTS Cypher 4\",\"Intro: Never Mind\",\n",
    "         \"Intro: The Most Beautiful Moment in Life\",\"Intro: What Am I to You\",\"BTS Cypher, Pt. 3: Killer\",\n",
    "         \"Intro: Skool Luv Affair\",\"BTS Cypher, Pt.2: Triptych\",\"Intro: O!RUL8,2?\",\"Paldogangsan\",\n",
    "         \"BTS Cypher, Pt.1\",\"All Night\",\n",
    "         \"A Brand New Day\"]"
   ]
  },
  {
   "cell_type": "code",
   "execution_count": 24,
   "metadata": {
    "scrolled": true
   },
   "outputs": [],
   "source": [
    "def currchart(soup,chart):\n",
    "    currentcharting={}\n",
    "    tableinfo=soup.body.find_all('td')\n",
    "    for release in tableinfo[4:]:\n",
    "        if release.div==None:\n",
    "            continue\n",
    "        else:\n",
    "            title=release.div.text\n",
    "            itunespositions=release.find_all(\"div\", class_=chart)[1:]\n",
    "            currentcharting[title]={}\n",
    "            for position in itunespositions:\n",
    "                working=position.a.text.split(\" \",1)\n",
    "                working[0]=int(working[0].lstrip(\"#\"))\n",
    "                country=working[1]\n",
    "                currentcharting[title][country]={}\n",
    "                currentcharting[title][country][\"pos\"]=working[0]\n",
    "                currentcharting[title][country][\"mov\"]=position.span.text\n",
    "                #currentcharting[title][country].append(working[0])\n",
    "                #currentcharting[title][country].append(position.span.text)\n",
    "    #for title in currentcharting:\n",
    "        #if title in rapline:\n",
    "            #print(title)\n",
    "            #for country in currentcharting[title]:\n",
    "                #pos=str(currentcharting[title][country][\"pos\"])\n",
    "               # mov=currentcharting[title][country][\"mov\"]\n",
    "                #print(country +\" \"+ pos +' ' + mov)\n",
    "            #print(\"\\n\")\n",
    "        #else:\n",
    "           # continue\n",
    "    return currentcharting"
   ]
  },
  {
   "cell_type": "code",
   "execution_count": 25,
   "metadata": {},
   "outputs": [],
   "source": [
    "def record(currentcharting):\n",
    "    for title in currentcharting:\n",
    "        thecsv = f\"/Users/ajkoenig/iTunes/{title}.csv\"\n",
    "        try:\n",
    "            tempfile=NamedTemporaryFile(mode='w',delete=False)\n",
    "            fields=['country', 'peak', 'date']\n",
    "            with open(thecsv, mode='r') as infile, tempfile:\n",
    "                reader = csv.DictReader(infile)\n",
    "                writer = csv.DictWriter(tempfile, fieldnames=fields)\n",
    "                writer.writeheader()\n",
    "                historiccountries=[]\n",
    "                for row in reader:\n",
    "                    historiccountries.append(row['country'])\n",
    "                    #in historic & in current check (skips if not currently charting)\n",
    "                    if row['country'] in currentcharting[title].keys():\n",
    "                        #current higher than historic check\n",
    "                        if int(row['peak']) > currentcharting[title][row['country']]['pos']:\n",
    "                            print(\"New peak: \"+title+\" \"+row['country']+ \" \"+str(currentcharting[title][row['country']]['pos']))\n",
    "                            row['country'], row['peak'], row['date'] = row['country'], currentcharting[title][row['country']]['pos'], today\n",
    "                    row = {'country': row['country'], 'peak': row['peak'], 'date': row['date']}\n",
    "                    writer.writerow(row)\n",
    "                #in current not historic check\n",
    "                for country in list(currentcharting[title]):\n",
    "                    if country not in historiccountries:\n",
    "                        print(\"New entry: \"+title+\" \"+country+ \" \"+str(currentcharting[title][country]['pos']))\n",
    "                        row = {'country': country, 'peak':currentcharting[title][country]['pos'], 'date':today}\n",
    "                        writer.writerow(row)\n",
    "            shutil.move(tempfile.name, thecsv) \n",
    "        except:\n",
    "            print(\"New song:\"+title)\n",
    "            with open(thecsv, 'w') as csvfile:\n",
    "                fieldnames = ['country', 'peak','date']\n",
    "                writer = csv.DictWriter(csvfile, fieldnames=fieldnames)\n",
    "                writer.writeheader()\n",
    "                for country in currentcharting[title]:\n",
    "                    writer.writerow({'country': country, 'peak':currentcharting[title][country]['pos'], 'date':today})\n",
    "    return"
   ]
  },
  {
   "cell_type": "code",
   "execution_count": 22,
   "metadata": {
    "scrolled": true
   },
   "outputs": [
    {
     "ename": "NameError",
     "evalue": "name 'record' is not defined",
     "output_type": "error",
     "traceback": [
      "\u001b[0;31m---------------------------------------------------------------------------\u001b[0m",
      "\u001b[0;31mNameError\u001b[0m                                 Traceback (most recent call last)",
      "\u001b[0;32m<ipython-input-22-825459b9fe3d>\u001b[0m in \u001b[0;36m<module>\u001b[0;34m\u001b[0m\n\u001b[1;32m      1\u001b[0m \u001b[0mcurrentcharting\u001b[0m\u001b[0;34m=\u001b[0m\u001b[0mcurrchart\u001b[0m\u001b[0;34m(\u001b[0m\u001b[0msoup\u001b[0m\u001b[0;34m)\u001b[0m\u001b[0;34m\u001b[0m\u001b[0;34m\u001b[0m\u001b[0m\n\u001b[0;32m----> 2\u001b[0;31m \u001b[0mdistest\u001b[0m\u001b[0;34m=\u001b[0m\u001b[0mrecord\u001b[0m\u001b[0;34m(\u001b[0m\u001b[0mcurrentcharting\u001b[0m\u001b[0;34m)\u001b[0m\u001b[0;34m\u001b[0m\u001b[0;34m\u001b[0m\u001b[0m\n\u001b[0m\u001b[1;32m      3\u001b[0m \u001b[0mdistest\u001b[0m\u001b[0;34m\u001b[0m\u001b[0;34m\u001b[0m\u001b[0m\n",
      "\u001b[0;31mNameError\u001b[0m: name 'record' is not defined"
     ]
    }
   ],
   "source": [
    "currentcharting=currchart(soup)\n",
    "distest=record(currentcharting)\n",
    "distest"
   ]
  },
  {
   "cell_type": "code",
   "execution_count": null,
   "metadata": {
    "scrolled": true
   },
   "outputs": [
    {
     "name": "stdout",
     "output_type": "stream",
     "text": [
      "rest\n",
      "rest\n",
      "rest\n",
      "rest\n",
      "rest\n",
      "rest\n",
      "New peak: Friends Qatar 4\n",
      "New peak: FAKE LOVE Bolivia 7\n",
      "New peak: FAKE LOVE Cambodia 161\n",
      "New peak: Dionysus United Arab Emirates 2\n",
      "rest\n",
      "rest\n",
      "rest\n",
      "New peak: Album: MAP OF THE SOUL : 7 ~ THE JOURNEY ~ Moldova 2\n",
      "New peak: Album: MAP OF THE SOUL : PERSONA Armenia 130\n",
      "New peak: Album: Love Yourself 轉 'Tear' Armenia 136\n",
      "rest\n",
      "rest\n",
      "rest\n",
      "New peak: Respect Bulgaria 1\n",
      "New peak: Black Swan Kazakhstan 88\n",
      "rest\n",
      "rest\n",
      "rest\n",
      "New entry: Outro : Ego Russia 38\n",
      "rest\n",
      "rest\n",
      "rest\n",
      "New peak: ON Bahrain 5\n",
      "New song:Skit: Circle Room Talk\n",
      "New peak: Album: MAP OF THE SOUL : 7 Singapore 157\n",
      "New peak: Album: Love Yourself 結 'Answer' Singapore 152\n",
      "New peak: Album: MAP OF THE SOUL : PERSONA Fiji 99\n",
      "New peak: Album: Love Yourself 轉 'Tear' Singapore 151\n",
      "rest\n",
      "rest\n",
      "rest\n",
      "rest\n",
      "rest\n",
      "rest\n",
      "New entry: Magic Shop Singapore 1\n",
      "New peak: Black Swan Kazakhstan 84\n",
      "New song:Singularity\n",
      "New peak: Heartbeat Laos 62\n",
      "rest\n",
      "rest\n",
      "rest\n",
      "New entry: Filter Turkey 131\n",
      "rest\n",
      "rest\n",
      "rest\n",
      "New peak: Spring Day Malaysia 62\n",
      "New peak: FAKE LOVE Bolivia 6\n",
      "New entry: Love Maze Peru 1\n",
      "rest\n",
      "rest\n",
      "rest\n",
      "rest\n",
      "rest\n",
      "rest\n",
      "New peak: Interlude Romania 1\n",
      "rest\n",
      "rest\n",
      "rest\n",
      "rest\n",
      "rest\n",
      "rest\n",
      "New entry: HOME Argentina 1\n",
      "rest\n",
      "rest\n",
      "rest\n",
      "rest\n",
      "rest\n",
      "rest\n",
      "rest\n",
      "rest\n",
      "rest\n",
      "rest\n",
      "rest\n",
      "rest\n",
      "rest\n",
      "rest\n",
      "rest\n",
      "rest\n",
      "rest\n",
      "rest\n",
      "New entry: Friends Chile 7\n",
      "New peak: Skit: Circle Room Talk Romania 3\n",
      "New peak: Album: MAP OF THE SOUL : 7 Mexico 3\n",
      "rest\n",
      "rest\n",
      "rest\n",
      "rest\n",
      "rest\n",
      "rest\n",
      "rest\n",
      "rest\n",
      "rest\n",
      "rest\n",
      "rest\n",
      "rest\n",
      "rest\n",
      "rest\n",
      "rest\n",
      "rest\n",
      "rest\n",
      "New peak: Album: The Most Beautiful Moment in Life: Young Forever Australia 347\n",
      "rest\n",
      "rest\n",
      "rest\n",
      "New peak: Outro : Ego Russia 36\n",
      "rest\n"
     ]
    }
   ],
   "source": [
    "while True:\n",
    "    t = date.today()\n",
    "    today = t.strftime(\"%d%m%y\")\n",
    "    htmlContent = requests.get(url)\n",
    "    soup=BeautifulSoup(htmlContent.content, 'html.parser')\n",
    "    currentcharting=currchart(soup)\n",
    "    record(currentcharting)\n",
    "    print('rest')\n",
    "    time.sleep(300)"
   ]
  },
  {
   "cell_type": "code",
   "execution_count": null,
   "metadata": {},
   "outputs": [],
   "source": []
  },
  {
   "cell_type": "code",
   "execution_count": 26,
   "metadata": {
    "scrolled": true
   },
   "outputs": [
    {
     "name": "stdout",
     "output_type": "stream",
     "text": [
      "New entry: cardigan Cambodia 28\n",
      "New entry: cardigan Costa Rica 1\n",
      "New entry: cardigan Israel 1\n",
      "New entry: cardigan Malaysia 7\n",
      "New entry: cardigan Mexico 46\n",
      "New entry: cardigan Saudi Arabia 2\n",
      "New entry: cardigan Vietnam 6\n",
      "New entry: cardigan United States 79\n",
      "New entry: cardigan Hong Kong 31\n",
      "New entry: cardigan Thailand 19\n",
      "New entry: cardigan Bolivia 4\n",
      "New entry: cardigan Colombia 4\n",
      "New entry: cardigan Canada 79\n",
      "New entry: cardigan Netherlands 177\n",
      "New entry: cardigan Norway 10\n",
      "New entry: cardigan Finland 25\n",
      "New entry: cardigan Germany 30\n",
      "New entry: cardigan Egypt 31\n",
      "New entry: cardigan Belgium 34\n",
      "New entry: cardigan South Africa 38\n",
      "New entry: cardigan Taiwan 41\n",
      "New entry: cardigan El Salvador 113\n",
      "New entry: cardigan Russia 234\n",
      "New entry: cardigan Italy 290\n"
     ]
    }
   ],
   "source": [
    "currentcharting=currchart(soup,'itu')\n",
    "title='cardigan'\n",
    "thecsv = f\"/Users/ajkoenig/iTunes/{title}.csv\"\n",
    "try:\n",
    "    tempfile=NamedTemporaryFile(mode='w',delete=False)\n",
    "    fields=['country', 'peak', 'date']\n",
    "    with open(thecsv, mode='r') as infile, tempfile:\n",
    "        reader = csv.DictReader(infile)\n",
    "        writer = csv.DictWriter(tempfile, fieldnames=fields)\n",
    "        writer.writeheader()\n",
    "        historiccountries=[]\n",
    "        for row in reader:\n",
    "            historiccountries.append(row['country'])\n",
    "            #in historic & in current check (skips if not currently charting)\n",
    "            if row['country'] in currentcharting[title].keys():\n",
    "                #current higher than historic check\n",
    "                if int(row['peak']) > currentcharting[title][row['country']]['pos']:\n",
    "                    print(\"New peak: \"+title+\" \"+row['country']+ \" \"+str(currentcharting[title][row['country']]['pos']))\n",
    "                    row['country'], row['peak'], row['date'] = row['country'], currentcharting[title][row['country']]['pos'], today\n",
    "            row = {'country': row['country'], 'peak': row['peak'], 'date': row['date']}\n",
    "            writer.writerow(row)\n",
    "        #in current not historic check\n",
    "        for country in list(currentcharting[title]):\n",
    "            if country not in historiccountries:\n",
    "                print(\"New entry: \"+title+\" \"+country+ \" \"+str(currentcharting[title][country]['pos']))\n",
    "                row = {'country': country, 'peak':currentcharting[title][country]['pos'], 'date':today}\n",
    "                writer.writerow(row)\n",
    "    shutil.move(tempfile.name, thecsv) \n",
    "except:\n",
    "    print(\"New song:\"+title)\n",
    "    with open(thecsv, 'w') as csvfile:\n",
    "        fieldnames = ['country', 'peak','date']\n",
    "        writer = csv.DictWriter(csvfile, fieldnames=fieldnames)\n",
    "        writer.writeheader()\n",
    "        for country in currentcharting[title]:\n",
    "            writer.writerow({'country': country, 'peak':currentcharting[title][country]['pos'], 'date':today})"
   ]
  },
  {
   "cell_type": "code",
   "execution_count": null,
   "metadata": {},
   "outputs": [],
   "source": []
  },
  {
   "cell_type": "code",
   "execution_count": null,
   "metadata": {},
   "outputs": [],
   "source": []
  },
  {
   "cell_type": "code",
   "execution_count": null,
   "metadata": {},
   "outputs": [],
   "source": [
    "currentcharting2={'goodsong':{'USA':{'pos': 1, 'mov':'(NE)'}, 'UK':{'pos':2, 'mov':'(NE)'}, 'France':{'pos':4, 'mov':'(-1)'}}}"
   ]
  },
  {
   "cell_type": "code",
   "execution_count": null,
   "metadata": {
    "scrolled": true
   },
   "outputs": [],
   "source": [
    "thecsv = f\"/Users/ajkoenig/iTunes/goodsong.csv\"\n",
    "tempfile=NamedTemporaryFile(mode='w',delete=False)\n",
    "fields=['country', 'peak', 'date']\n",
    "with open(thecsv, mode='r') as infile, tempfile:\n",
    "    reader = csv.DictReader(infile)\n",
    "    writer = csv.DictWriter(tempfile, fieldnames=fields)\n",
    "    writer.writeheader()\n",
    "    historiccountries=[]\n",
    "    for row in reader:\n",
    "        historiccountries.append(row['country'])\n",
    "        #in historic & in current check (skips if not currently charting)\n",
    "        if row['country'] in currentcharting2['goodsong'].keys():\n",
    "            #current higher than historic check\n",
    "            if int(row['peak']) > currentcharting2['goodsong'][row['country']]['pos']:\n",
    "                print(\"New peak:\"+\" goodsong\"+\" \"+row['country']+ \" \"+str(currentcharting2['goodsong'][row['country']]['pos']))\n",
    "                row['country'], row['peak'], row['date'] = row['country'], currentcharting2['goodsong'][row['country']]['pos'], today\n",
    "        row = {'country': row['country'], 'peak': row['peak'], 'date': row['date']}\n",
    "        writer.writerow(row)\n",
    "    #in current not historic check\n",
    "    for country in list(currentcharting2['goodsong']):\n",
    "        if country not in historiccountries:\n",
    "            print(\"New entry:\"+' goodsong'+\" \"+country+ \" \"+str(currentcharting2['goodsong'][country]['pos']))\n",
    "            row = {'country': country, 'peak':currentcharting2['goodsong'][country]['pos'], 'date':today}\n",
    "            writer.writerow(row)\n",
    "shutil.move(tempfile.name, thecsv)"
   ]
  },
  {
   "cell_type": "code",
   "execution_count": null,
   "metadata": {},
   "outputs": [],
   "source": [
    "historiccountries"
   ]
  },
  {
   "cell_type": "code",
   "execution_count": null,
   "metadata": {},
   "outputs": [],
   "source": [
    "list(currentcharting2['goodsong'].keys())"
   ]
  },
  {
   "cell_type": "code",
   "execution_count": null,
   "metadata": {},
   "outputs": [],
   "source": []
  }
 ],
 "metadata": {
  "kernelspec": {
   "display_name": "Python 3",
   "language": "python",
   "name": "python3"
  },
  "language_info": {
   "codemirror_mode": {
    "name": "ipython",
    "version": 3
   },
   "file_extension": ".py",
   "mimetype": "text/x-python",
   "name": "python",
   "nbconvert_exporter": "python",
   "pygments_lexer": "ipython3",
   "version": "3.9.5"
  }
 },
 "nbformat": 4,
 "nbformat_minor": 2
}
